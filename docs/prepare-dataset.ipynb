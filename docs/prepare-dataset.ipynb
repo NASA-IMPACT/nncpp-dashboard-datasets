{
 "cells": [
  {
   "cell_type": "markdown",
   "metadata": {},
   "source": [
    "# Adding a new dataset to the dashboard\n",
    "This notebook provides steps to gather the required details needed to add a new cloud optimized datasest to the dashboard. After gathering the necessary configuration information, you can create a new dataset json (see examples in [datasets](../datasets)) and add that json file to the dataset list in the [config.yml](config.yml). \n",
    "\n",
    "## Configure dataset\n",
    "1. Validate COG\n",
    "2. Summarize dataset statistics\n",
    "3. Configure dataset display preferences and tile source for the dashboard\n",
    "4. Optional: Prepare MosaicJSON for COG data stored as granules\n",
    "\n",
    "## Create dataset with a new pull request\n",
    "When you have added your dataset json to [datasets](../datasets) and referenced it in [config.yml](config.yml), create a pull request to add the dataset to the individual tiles.\n",
    "   \n",
    "## Prerequisites\n",
    "- COG datasets stored in S3\n",
    "- Jupyter notebook, boto3, rasterio, rio-cogeo, supermercado, cogeo-mosaic\n",
    "- [geo-environment.yml](geo-environment.yml) is provided as a starting point for creating a conda environment to satisfy requirements\n",
    "\n",
    "## Resources\n",
    "Content in this notebook directly sourced from:\n",
    "- [MAAP Project MosaicJSON Tutorials](https://docs.maap-project.org/en/develop/visualization/srtm-stac-mosaic.html#MosaicJSON)\n",
    "- [MAAP Project Add User-Created Datasets Docs](https://github.com/MAAP-Project/maap-documentation/blob/ab/create-dashboard-datasets-guidance/docs/source/user_data/create-datasets-for-dashboard.ipynb)\n",
    "\n",
    "Other:\n",
    "- [Rio-Cogeo How To](https://cogeotiff.github.io/rio-cogeo/Is_it_a_COG/)\n",
    "- [GDAL vsis3](https://gdal.org/user/virtual_file_systems.html#vsis3-aws-s3-files)"
   ]
  },
  {
   "cell_type": "code",
   "execution_count": null,
   "metadata": {},
   "outputs": [],
   "source": [
    "import boto3\n",
    "\n",
    "# for colormaps and legends\n",
    "import json\n",
    "import matplotlib.cm\n",
    "\n",
    "\n",
    "# if preparing a dataset composed of granules\n",
    "import os\n",
    "from cogeo_mosaic.mosaic import MosaicJSON\n",
    "from cogeo_mosaic.backends import MosaicBackend\n",
    "\n",
    "s3 = boto3.client('s3')"
   ]
  },
  {
   "cell_type": "markdown",
   "metadata": {},
   "source": [
    "## Validate COG"
   ]
  },
  {
   "cell_type": "code",
   "execution_count": null,
   "metadata": {},
   "outputs": [],
   "source": [
    "bucket = 'my-bucket'\n",
    "key = 'object-name.tif'\n",
    "s3_path = f'{bucket}/{key}'"
   ]
  },
  {
   "cell_type": "code",
   "execution_count": null,
   "metadata": {},
   "outputs": [],
   "source": [
    "%%bash -s \"$s3_path\"\n",
    "rio cogeo validate /vsis3/$1"
   ]
  },
  {
   "cell_type": "markdown",
   "metadata": {},
   "source": [
    "## Summarize dataset to identify rescale and color parameters"
   ]
  },
  {
   "cell_type": "code",
   "execution_count": null,
   "metadata": {},
   "outputs": [],
   "source": [
    "%%bash -s \"$s3_path\"\n",
    "gdalinfo /vsis3/$1 -stats"
   ]
  },
  {
   "cell_type": "code",
   "execution_count": null,
   "metadata": {},
   "outputs": [],
   "source": [
    "%%bash -s \"$s3_path\"\n",
    "rio cogeo info /vsis3/$1"
   ]
  },
  {
   "cell_type": "markdown",
   "metadata": {},
   "source": [
    "## Tiler\n",
    "The steps below demonstrate how to check that a the dataset can be rendered and how to configure the dataset colors. \n",
    "\n",
    "### Dynamic tiler URL\n",
    "\n",
    "[TiTiler](https://github.com/NASA-IMPACT/titiler) is used as the dynamic tiler in this example, the current value for this variable can be found in .github/workflows/deploy.yml"
   ]
  },
  {
   "cell_type": "code",
   "execution_count": null,
   "metadata": {},
   "outputs": [],
   "source": [
    "titiler_url = '<tiler base url>'"
   ]
  },
  {
   "cell_type": "markdown",
   "metadata": {},
   "source": [
    "### Get valid x, y parameters for a given zoom¶ \n",
    "When generating tiles, the titiler API requires a valid x, y set for the given zoom.\n",
    "- Note: for datasets with sparse data, the test image url may not show much. A tool like [QGIS](https://qgis.org/en/site/index.html) can help to identify where data are available.\n",
    "- For COGs with limited spatial extent, the cell below can help identify valid z/x/y values to use when testing the tiler. For datasets with global extent, zxy = 1/0/1 will work.\n"
   ]
  },
  {
   "cell_type": "code",
   "execution_count": null,
   "metadata": {},
   "outputs": [],
   "source": [
    "# %%bash -s \"$s3_path\"\n",
    "# rio bounds /vsis3/$1 | supermercado burn 1 # this last value is the \"zoom\""
   ]
  },
  {
   "cell_type": "code",
   "execution_count": null,
   "metadata": {},
   "outputs": [],
   "source": [
    "s3_uri = f's3://{s3_path}'\n",
    "band_min = 0\n",
    "band_max = 1\n",
    "zxy = '1/0/1'\n",
    "rescale = f\"{band_min},{band_max}\"\n",
    "band_index = 1\n",
    "\n",
    "test_img_url = f\"{titiler_url}/cog/tiles/{zxy}.png?url={s3_uri}&rescale={rescale}&bidx={band_index}\"\n",
    "\n",
    "# Jupyter auto adds &amp; to links so copy / paste everything after \"x\" into a browser\n",
    "print(f\"x{test_img_url}\")"
   ]
  },
  {
   "cell_type": "markdown",
   "metadata": {},
   "source": [
    "\n",
    "## Define a color map\n",
    "\n",
    "By default, the image will be displayed in greyscale if no colormap_name parameter is passed to the titiler API. Guidance below is provided to help determine what a valid colormap_name might be and how to create a legend for the dashboard.\n",
    "Dashboard ColorRamps & Legends\n",
    "\n",
    "When using the dashboard, there 2 components for implementing a color scheme for your map. There is the map render and there is the legend.\n",
    "\n",
    "TiTiler used for Cloud Optimized Geotiff (COG) rendering accepts any color scheme from the python matplotlib library, and custom color formulas.\n",
    "\n",
    "- [Rio Tiler Colors](https://cogeotiff.github.io/rio-tiler/colormap/)\n",
    "- [Matplotlib Colors](https://matplotlib.org/stable/tutorials/colors/colormaps.html)\n"
   ]
  },
  {
   "cell_type": "markdown",
   "metadata": {},
   "source": [
    "### Example 1: Class based known colors\n",
    "\n",
    "In this example, the raster represents classes of forest with 11 possible values. There are specific colors selected to correspond to each class. We combine the list of colors and the list of classes and format them for the legend parameter the dashboard needs.\n",
    "\n",
    "https://github.com/MAAP-Project/dashboard-datasets-maap/blob/main/datasets/taiga-forest-classification.json"
   ]
  },
  {
   "cell_type": "code",
   "execution_count": null,
   "metadata": {},
   "outputs": [],
   "source": [
    "colors = [\n",
    "    '#5255A3','#1796A3','#FDBF6F','#FF7F00', '#FFFFBF','#D9EF8B','#91CF60','#1A9850', '#C4C4C4','#FF0000','#0000FF'\n",
    "]\n",
    "\n",
    "labels = [\n",
    "    'Sparse & Uniform',\n",
    "    'Sparse & Diffuse-gradual',\n",
    "    'Sparse & Diffuse-rapid',\n",
    "    'Sparse & Abrupt ',\n",
    "    'Open & Uniform ',\n",
    "    'Open & Diffuse-gradual',\n",
    "    'Open & Diffuse-rapid',\n",
    "    'Open & Abrupt',\n",
    "    'Intermediate & Closed',\n",
    "    'Non-forest edge (dry)',\n",
    "    'Non-forest edge (wet)'\n",
    "]\n",
    "\n",
    "legend = [dict(color=colors[i],label=labels[i]) for i in range(0, len(colors))]\n",
    "print(json.dumps(legend, indent=2))\n",
    "\n",
    "# Copy and Paste the output below to your dashboard config."
   ]
  },
  {
   "cell_type": "markdown",
   "metadata": {},
   "source": [
    "### Example 2: Discrete ColorRamp\n",
    "\n",
    "In this example, the range of values is known, but the color scale has many non-sequential colors. Starting with the premade color list, we create a continuous color ramp that uses the known colors as stops points. Arbitrarly 12 breaks looked decent in the dashboard legend so we split it into 12 discrete colors. Then combine the list of values and colors into the correct json syntax.\n",
    "\n",
    "https://github.com/MAAP-Project/dashboard-datasets-maap/blob/main/datasets/ATL08.json"
   ]
  },
  {
   "cell_type": "code",
   "execution_count": null,
   "metadata": {},
   "outputs": [],
   "source": [
    "forest_ht = matplotlib.colors.LinearSegmentedColormap.from_list('forest_ht', ['#636363','#FC8D59','#FEE08B','#FFFFBF','#D9EF8B','#91CF60','#1A9850','#005A32'], 12)\n",
    "cols = [matplotlib.colors.to_hex(forest_ht(i)) for i in range(forest_ht.N)]\n",
    "\n",
    "cats = range(0,25, (25//len(cols)))\n",
    "legend = [[cats[i],cols[i]] for i in range(0, len(cols))]\n",
    "text = (json.dumps(legend, separators=(',', ': ') ))\n",
    "\n",
    "print(text.replace('],[','],\\n['))\n",
    " \n",
    "# Copy and Paste the output below to your dashboard config."
   ]
  },
  {
   "cell_type": "markdown",
   "metadata": {},
   "source": [
    "### Example 3: Continuous ColorRamp\n",
    "\n",
    "In this example, we are using a built in ColorRamp from matplotlib. So we just need to extract enough colors to fill the legend adequately, and convert the colors to hex codes.\n",
    "\n",
    "https://github.com/MAAP-Project/dashboard-datasets-maap/blob/main/datasets/topo.json"
   ]
  },
  {
   "cell_type": "code",
   "execution_count": null,
   "metadata": {},
   "outputs": [],
   "source": [
    "cmap_name = 'viridis'\n",
    "cmap = matplotlib.cm.get_cmap(cmap_name, 12)\n",
    "cols = [matplotlib.colors.to_hex(cmap(i)) for i in range(cmap.N)]\n",
    "print(cols)\n",
    "\n",
    "# Copy and Paste the output below to your dashboard config."
   ]
  },
  {
   "cell_type": "markdown",
   "metadata": {},
   "source": [
    "## Create and submit your dashboard dataset json¶\n",
    "\n",
    ">**Note:** See the \"Optional: Mosaicing datasets\" section to configure tiles links for layers composed of granules."
   ]
  },
  {
   "cell_type": "code",
   "execution_count": null,
   "metadata": {},
   "outputs": [],
   "source": [
    "# This example is for a continuous color ramps\n",
    "\n",
    "dataset_id = \"my_dataset\"\n",
    "dataset_name = \"My Dataset Name\"\n",
    "dataset_type = \"raster\"\n",
    "legend_type = \"gradient\"\n",
    "info = \"Description and units\"\n",
    "\n",
    "band_index = 1\n",
    "band_min = 0\n",
    "band_max = 1800\n",
    "nodata = -9\n",
    "\n",
    "s3_uri = f's3://{s3_path}'\n",
    "\n",
    "# define an array of cols as demonstrated in the continues colormap example above\n",
    "stops = cols\n",
    "tiles_link = f\"{{titiler_server_url}}/cog/tiles/{{z}}/{{x}}/{{y}}@1x?url={s3_uri}&colormap_name={cmap_name}&rescale={band_min},{band_max}&bidx={band_index}\""
   ]
  },
  {
   "cell_type": "code",
   "execution_count": null,
   "metadata": {},
   "outputs": [],
   "source": [
    "dataset_dict = {\n",
    "    \"id\": dataset_id,\n",
    "    \"name\": dataset_name,\n",
    "    \"type\": dataset_type,\n",
    "    \"swatch\": {\n",
    "      \"color\": \"#6976d7\",\n",
    "      \"name\": \"Dark Green\"\n",
    "    },\n",
    "    \"source\": {\n",
    "        \"type\": dataset_type,\n",
    "        \"tiles\": [ tiles_link ]\n",
    "    },\n",
    "    \"legend\": {\n",
    "      \"type\": legend_type,\n",
    "      \"min\": band_min,\n",
    "      \"max\": band_max,\n",
    "    \"stops\": stops\n",
    "    },\n",
    "    \"info\": info\n",
    "}\n",
    "print(json.dumps(dataset_dict, indent=4))"
   ]
  },
  {
   "cell_type": "markdown",
   "metadata": {},
   "source": [
    "## Optional: Mosaicing datasets\n",
    "\n",
    "Many datasets are comprised of many tiles distributed spatially over the globe. In order to visualize them all together, we can use [mosaicJSON](https://github.com/developmentseed/mosaicjson-spec) to create a mosaic for the dynamic tiler API. The dynamic tiler API knows how to read this mosaicJSON and select which tiles to render based on the current zoom, x and y coordinates across spatially distinct COGs."
   ]
  },
  {
   "cell_type": "markdown",
   "metadata": {},
   "source": [
    "### Identify tiles in S3\n",
    "Select the tiles you want to mosaic in S3. "
   ]
  },
  {
   "cell_type": "code",
   "execution_count": null,
   "metadata": {},
   "outputs": [],
   "source": [
    "bucket = 'my-bucket'\n",
    "key_prefix = 'key-prefix'\n",
    "\n",
    "response = s3.list_objects_v2(\n",
    "    Bucket=bucket,\n",
    "    Prefix=key_prefix\n",
    ")\n",
    "response['Contents'][0]"
   ]
  },
  {
   "cell_type": "markdown",
   "metadata": {},
   "source": [
    "### Generate a list of URIs from selected object keys"
   ]
  },
  {
   "cell_type": "code",
   "execution_count": null,
   "metadata": {},
   "outputs": [],
   "source": [
    "s3_uris = []\n",
    "for obj in response['Contents']:\n",
    "    s3_uris.append(f\"s3://{bucket}/{obj['Key']}\")\n",
    "print(f'{len(s3_uris)} objects uris identified with Prefix={key_prefix}')"
   ]
  },
  {
   "cell_type": "code",
   "execution_count": null,
   "metadata": {},
   "outputs": [],
   "source": [
    "mosaicdata = MosaicJSON.from_urls(s3_uris, minzoom=1, maxzoom=10)\n",
    "\n",
    "# Optional, save the mosaic json to a local file\n",
    "mosaicjson_path = f'my_local_mosaic.json'\n",
    "\n",
    "# To use with TiTiler, upload the mosaic json to a s3 bucket accessible to the dashboard tiler (use a s3 url instead of local filename)\n",
    "# If your mosaic is a part of a time series, use a pattern that can be parsed by TiTiler\n",
    "# mosaicjson_path = f's3://<bucket>/mosaics/<dataset prefix>/<dataset YYYY.mm.dd or YYYY.mm>.json'\n",
    "\n",
    "with MosaicBackend(mosaicjson_path, mosaic_def=mosaicdata) as mosaic:\n",
    "    mosaic.write(overwrite=True)"
   ]
  },
  {
   "cell_type": "markdown",
   "metadata": {},
   "source": [
    "### Configure dashboard dataset tiles link\n",
    "The same general format can be used to create a tiles link for the mosaic json just created as the link generated above for the single file COG example. Add this link to the dataset json.\n",
    "\n",
    "**Single COG tiles link**\n",
    "\n",
    "`tiles_link = f\"{{titiler_server_url}}/cog/tiles/{{z}}/{{x}}/{{y}}@1x?url={s3_uri}&colormap_name={cmap_name}&rescale={band_min},{band_max}&bidx={band_index}`\n",
    "\n",
    "**MosaicJSON tiles link**\n",
    "\n",
    "`tiles_link = f\"{{titiler_server_url}}/cog/mosaicjson/{{z}}/{{x}}/{{y}}@1x?url={s3_mosaicjson_uri}&colormap_name={cmap_name}&rescale={band_min},{band_max}&bidx={band_index}`"
   ]
  }
 ],
 "metadata": {
  "interpreter": {
   "hash": "a3e59e86564368c3a2958c75795fb9b6b7ba7f418847a60ce00276ffc05c4501"
  },
  "kernelspec": {
   "display_name": "Python 3 (ipykernel)",
   "language": "python",
   "name": "python3"
  },
  "language_info": {
   "codemirror_mode": {
    "name": "ipython",
    "version": 3
   },
   "file_extension": ".py",
   "mimetype": "text/x-python",
   "name": "python",
   "nbconvert_exporter": "python",
   "pygments_lexer": "ipython3",
   "version": "3.9.7"
  }
 },
 "nbformat": 4,
 "nbformat_minor": 4
}
